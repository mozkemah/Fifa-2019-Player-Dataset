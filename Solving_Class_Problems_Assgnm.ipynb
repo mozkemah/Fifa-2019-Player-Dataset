{
  "nbformat": 4,
  "nbformat_minor": 0,
  "metadata": {
    "colab": {
      "name": "Solving Class Problems Assgnm.ipynb",
      "provenance": [],
      "collapsed_sections": [],
      "authorship_tag": "ABX9TyOFQvB3K3LwKu2O/sofqf16",
      "include_colab_link": true
    },
    "kernelspec": {
      "name": "python3",
      "display_name": "Python 3"
    }
  },
  "cells": [
    {
      "cell_type": "markdown",
      "metadata": {
        "id": "view-in-github",
        "colab_type": "text"
      },
      "source": [
        "<a href=\"https://colab.research.google.com/github/mozkemah/Fifa-2019-Player-Dataset/blob/master/Solving_Class_Problems_Assgnm.ipynb\" target=\"_parent\"><img src=\"https://colab.research.google.com/assets/colab-badge.svg\" alt=\"Open In Colab\"/></a>"
      ]
    },
    {
      "cell_type": "markdown",
      "metadata": {
        "id": "XjqnYMRNl0FK",
        "colab_type": "text"
      },
      "source": [
        "**Load the Data**"
      ]
    },
    {
      "cell_type": "code",
      "metadata": {
        "id": "r70t1PlS4Axw",
        "colab_type": "code",
        "colab": {}
      },
      "source": [
        "from sklearn.datasets import load_digits\n",
        "X, y = load_digits(return_X_y=True)\n",
        "\n"
      ],
      "execution_count": 0,
      "outputs": []
    },
    {
      "cell_type": "markdown",
      "metadata": {
        "id": "D41I_ZCQl8x7",
        "colab_type": "text"
      },
      "source": [
        "**Exploratory Data Analysis**"
      ]
    },
    {
      "cell_type": "code",
      "metadata": {
        "id": "dEvT7sDpKuVO",
        "colab_type": "code",
        "colab": {}
      },
      "source": [
        "import numpy as np\n",
        "dataset = load_digits()\n",
        "X, y = dataset.data, dataset.target"
      ],
      "execution_count": 0,
      "outputs": []
    },
    {
      "cell_type": "code",
      "metadata": {
        "id": "0TxMTEsjK4dj",
        "colab_type": "code",
        "outputId": "c0415c76-94ad-41c4-be39-834e6ce10b9c",
        "colab": {
          "base_uri": "https://localhost:8080/",
          "height": 184
        }
      },
      "source": [
        "for class_name, class_count  in zip(dataset.target_names, np.bincount(dataset.target)):\n",
        "  print(class_name, class_count)"
      ],
      "execution_count": 0,
      "outputs": [
        {
          "output_type": "stream",
          "text": [
            "0 178\n",
            "1 182\n",
            "2 177\n",
            "3 183\n",
            "4 181\n",
            "5 182\n",
            "6 181\n",
            "7 179\n",
            "8 174\n",
            "9 180\n"
          ],
          "name": "stdout"
        }
      ]
    },
    {
      "cell_type": "markdown",
      "metadata": {
        "id": "KAXmvv_NLHsD",
        "colab_type": "text"
      },
      "source": [
        "As the number of each class is very close to each other, we can say that this is a well-balanced dataset. "
      ]
    },
    {
      "cell_type": "code",
      "metadata": {
        "id": "xnrFf-Ibqmmh",
        "colab_type": "code",
        "outputId": "7c5c2d8e-6d18-4d2e-e5af-210abc308471",
        "colab": {
          "base_uri": "https://localhost:8080/",
          "height": 67
        }
      },
      "source": [
        "print('The number of rows in the dataset is {:d}'.format(class_count))\n",
        "print('The number of features in the dataset is {:d}'.format(class_name))\n",
        "np.bincount(y)"
      ],
      "execution_count": 0,
      "outputs": [
        {
          "output_type": "stream",
          "text": [
            "The number of rows in the dataset is 180\n",
            "The number of features in the dataset is 9\n"
          ],
          "name": "stdout"
        },
        {
          "output_type": "execute_result",
          "data": {
            "text/plain": [
              "array([178, 182, 177, 183, 181, 182, 181, 179, 174, 180])"
            ]
          },
          "metadata": {
            "tags": []
          },
          "execution_count": 10
        }
      ]
    },
    {
      "cell_type": "markdown",
      "metadata": {
        "id": "TVoLqliPqB-S",
        "colab_type": "text"
      },
      "source": [
        "**Prepare training and testing data**"
      ]
    },
    {
      "cell_type": "code",
      "metadata": {
        "id": "WKZ-OzbWCY1z",
        "colab_type": "code",
        "colab": {}
      },
      "source": [
        "from sklearn.model_selection import train_test_split\n",
        "\n",
        "X_train, X_test, y_train, y_test = train_test_split(X, y, random_state=20)"
      ],
      "execution_count": 0,
      "outputs": []
    },
    {
      "cell_type": "markdown",
      "metadata": {
        "id": "07w3CVqBqUeq",
        "colab_type": "text"
      },
      "source": [
        "**Cross validation with Logistic Regression**"
      ]
    },
    {
      "cell_type": "code",
      "metadata": {
        "id": "nq0OIuYQHm0O",
        "colab_type": "code",
        "outputId": "3bcc0bb9-e999-47a6-95c7-ff0511f2b240",
        "colab": {
          "base_uri": "https://localhost:8080/",
          "height": 50
        }
      },
      "source": [
        "from sklearn.linear_model import LogisticRegression\n",
        "from sklearn.model_selection import train_test_split, cross_val_score\n",
        "\n",
        "lr_clf = LogisticRegression(solver='lbfgs', multi_class='ovr', max_iter = 1000)\n",
        "lr_cv_scores = cross_val_score(lr_clf, X_train, y_train, cv = 5)\n",
        "\n",
        "print('Accuracy scores for the 5 folds: ', lr_cv_scores)\n",
        "print('Mean cross validation score: {:.3f}'.format(np.mean(lr_cv_scores)))\n"
      ],
      "execution_count": 0,
      "outputs": [
        {
          "output_type": "stream",
          "text": [
            "Accuracy scores for the 5 folds:  [0.97407407 0.97407407 0.91821561 0.95910781 0.98141264]\n",
            "Mean cross validation score: 0.961\n"
          ],
          "name": "stdout"
        }
      ]
    },
    {
      "cell_type": "markdown",
      "metadata": {
        "id": "AAuarKVztKMX",
        "colab_type": "text"
      },
      "source": [
        "Based on the scores, the model is able to predict consistently high on all 5 folds of the dataset."
      ]
    },
    {
      "cell_type": "markdown",
      "metadata": {
        "id": "Uu5uc5aYqj-j",
        "colab_type": "text"
      },
      "source": [
        "**Cross validation with RandomForest**"
      ]
    },
    {
      "cell_type": "code",
      "metadata": {
        "id": "IY6X2pbMR8CM",
        "colab_type": "code",
        "outputId": "11b34491-6843-4e9f-a7d1-3738f18bb6de",
        "colab": {
          "base_uri": "https://localhost:8080/",
          "height": 50
        }
      },
      "source": [
        "from sklearn.ensemble import RandomForestClassifier\n",
        "\n",
        "rf_clf = RandomForestClassifier(n_estimators=24)\n",
        "rf_cv_scores = cross_val_score(rf_clf, X_train, y_train, cv = 5)\n",
        "\n",
        "print('Accuracy scores for the 5 folds: ', rf_cv_scores)\n",
        "print('Mean cross validation score: {:.3f}'.format(np.mean(rf_cv_scores)))"
      ],
      "execution_count": 0,
      "outputs": [
        {
          "output_type": "stream",
          "text": [
            "Accuracy scores for the 5 folds:  [0.96666667 0.97777778 0.93680297 0.9739777  0.97026022]\n",
            "Mean cross validation score: 0.965\n"
          ],
          "name": "stdout"
        }
      ]
    }
  ]
}